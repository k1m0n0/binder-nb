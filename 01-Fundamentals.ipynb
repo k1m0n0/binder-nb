{
 "cells": [
  {
   "cell_type": "markdown",
   "metadata": {},
   "source": [
    "# Fundamentals"
   ]
  },
  {
   "cell_type": "markdown",
   "metadata": {},
   "source": [
    "## First steps"
   ]
  },
  {
   "cell_type": "markdown",
   "metadata": {},
   "source": [
    "Python is a popular, open-source programming language used for both scripting applications and standalone programs (see \"Learning Python\" by Mark Lutz). Python can be used to do pretty much anything. For example, you can use Python as a calculator. Position your cursor in the code cell below and hit `[shift]+[enter]`. The output should be 12, obviously."
   ]
  },
  {
   "cell_type": "code",
   "execution_count": 1,
   "metadata": {},
   "outputs": [
    {
     "data": {
      "text/plain": [
       "12"
      ]
     },
     "execution_count": 1,
     "metadata": {},
     "output_type": "execute_result"
    }
   ],
   "source": [
    "3 * 4"
   ]
  },
  {
   "cell_type": "markdown",
   "metadata": {},
   "source": [
    "Note that the extra spaces are added to make the code more readable.\n",
    "`3 * 4` works just as well as `3*4`. And it is considered good style.\n",
    "\n",
    "When you are programming, you want to store your values in variables."
   ]
  },
  {
   "cell_type": "code",
   "execution_count": 11,
   "metadata": {},
   "outputs": [
    {
     "data": {
      "text/plain": [
       "12"
      ]
     },
     "execution_count": 11,
     "metadata": {},
     "output_type": "execute_result"
    }
   ],
   "source": [
    "a = 3\n",
    "b = 4\n",
    "a * b"
   ]
  },
  {
   "cell_type": "markdown",
   "metadata": {},
   "source": [
    "Both `a` and `b` are now variables. Each variable has a type. In this case, they are both integers (whole numbers). To write the value of a variable to the screen, use the `print` function (the last statement of a code cell is automatically printed to the screen if it is not stored in a variable, as shown above)."
   ]
  },
  {
   "cell_type": "code",
   "execution_count": 3,
   "metadata": {},
   "outputs": [
    {
     "name": "stdout",
     "output_type": "stream",
     "text": [
      "3\n",
      "4\n",
      "12\n",
      "0.75\n"
     ]
    }
   ],
   "source": [
    "print(a)\n",
    "print(b)\n",
    "print(a * b)\n",
    "print(a / b)"
   ]
  },
  {
   "cell_type": "markdown",
   "metadata": {},
   "source": [
    "You can add some text to the `print` function by putting the text between quotes (either single or double quotes work as long as you use the same at the beginning and end), and separate the text string and the variable by a comma."
   ]
  },
  {
   "cell_type": "code",
   "execution_count": 9,
   "metadata": {},
   "outputs": [
    {
     "name": "stdout",
     "output_type": "stream",
     "text": [
      "The value of a is 3\n"
     ]
    }
   ],
   "source": [
    "print('The value of a is', a)"
   ]
  },
  {
   "cell_type": "markdown",
   "metadata": {},
   "source": [
    "### Exercise 1a, Variable\n",
    "Change the value of one of the variables above, e.g. the definition of `a`, and run the cells again. See how the output changes."
   ]
  },
  {
   "cell_type": "markdown",
   "metadata": {},
   "source": [
    "### <a name=\"ex1b\"></a> Exercise 1b, First Python code\n",
    "\n",
    "The NDVI is calculated by comparing spectral reflectance measurements acquired in the red (visible) and near-infrared regions and it is defined as \n",
    "\n",
    "$NDVI=\\frac{(NIR-Red)}{(NIR+Red)}$.\n",
    "\n",
    "\n",
    "Compute the value of the NDVI for a healthy plant with $nir=0.415$ and $red=0.0599$ reflectance values as well as for a stressed plant with $nir=0.3483$ and $red=0.11135$ reflectance values. \n",
    "\n",
    "Print the results to the screen."
   ]
  },
  {
   "cell_type": "code",
   "execution_count": null,
   "metadata": {},
   "outputs": [],
   "source": []
  },
  {
   "cell_type": "markdown",
   "metadata": {},
   "source": [
    "<a href=\"#ex1banswer\"> Answer to Exercise 1b</a>"
   ]
  },
  {
   "cell_type": "markdown",
   "metadata": {},
   "source": [
    "### Division\n",
    "As seen above division works as well"
   ]
  },
  {
   "cell_type": "code",
   "execution_count": 13,
   "metadata": {},
   "outputs": [
    {
     "name": "stdout",
     "output_type": "stream",
     "text": [
      "1/3 gives 0.3333333333333333\n"
     ]
    }
   ],
   "source": [
    "print('1/3 gives', 1 / 3)"
   ]
  },
  {
   "cell_type": "markdown",
   "metadata": {},
   "source": [
    "The above print statement looks pretty ugly with 16 values of 3 in a row. A better and more readable way to print both text and the value of variable to the screen is to use what are called f-strings. f-strings allow you to insert the value of a variable anywhere in the text by surrounding it with braces `{}`. The entire text string needs to be between quotes and be preceded by the letter `f`."
   ]
  },
  {
   "cell_type": "code",
   "execution_count": 13,
   "metadata": {},
   "outputs": [
    {
     "name": "stdout",
     "output_type": "stream",
     "text": [
      "1 divided by 3 gives 0.3333333333333333\n"
     ]
    }
   ],
   "source": [
    "a = 1\n",
    "b = 3\n",
    "c = a / b\n",
    "print(f'{a} divided by {b} gives {c}')"
   ]
  },
  {
   "cell_type": "markdown",
   "metadata": {},
   "source": [
    "The complete syntax between braces is `{variable:width.precision}`. The value may be filled with spaces or other characters if the value is shorter than the specified width. And the number of decimal places is given with the precision parameter. When `width` and `precision` are not specified, Python will use all digits and figure out the width for you. If you want a floating point number with 2 decimals, you specify the number of digits (`2`) followed by the letter `f` for floating point."
   ]
  },
  {
   "cell_type": "code",
   "execution_count": 14,
   "metadata": {},
   "outputs": [
    {
     "name": "stdout",
     "output_type": "stream",
     "text": [
      "1 divided by 3 gives 0.33\n"
     ]
    }
   ],
   "source": [
    "print(f'{a} divided by {b} gives {c:.2f}')"
   ]
  },
  {
   "cell_type": "markdown",
   "metadata": {},
   "source": [
    "### Comments\n",
    "The text after the `#` is a comment in the code. Any text on the line after the `#` is ignored by Python. \n",
    "\n",
    "Comments are very useful to describe code and make it easier for humans to understand."
   ]
  },
  {
   "cell_type": "code",
   "execution_count": 15,
   "metadata": {},
   "outputs": [
    {
     "name": "stdout",
     "output_type": "stream",
     "text": [
      "1 divided by 3 gives 0.333\n"
     ]
    }
   ],
   "source": [
    "# this is a comment!\n",
    "print(f'{a} divided by {b} gives {c:.3f}') # three decimal places"
   ]
  },
  {
   "cell_type": "markdown",
   "metadata": {},
   "source": [
    "### <a name=\"ex1c\"></a> Exercise 1c, Python code using f-strings\n",
    "\n",
    "As in exercise 1b, compute the value of the NDVI for a healthy plant with $nir=0.415$ and $red=0.0599$ reflectance values as well as for a stressed plant with $nir=0.3483$ and $red=0.11135$ reflectance values. \n",
    "\n",
    "This time, print the results to the screen using f-strings and 2 decimal places."
   ]
  },
  {
   "cell_type": "code",
   "execution_count": null,
   "metadata": {},
   "outputs": [],
   "source": []
  },
  {
   "cell_type": "markdown",
   "metadata": {},
   "source": [
    "<a href=\"#ex1canswer\">Answer to Exercise 1c</a>"
   ]
  },
  {
   "cell_type": "markdown",
   "metadata": {},
   "source": [
    "### More on variables\n",
    "Once you have created a variable in a Python session, it will remain in memory, so you can use it in other cells as well. For example, the variables `a` and `b`, which were defined in cells above in this Notebook, still exist."
   ]
  },
  {
   "cell_type": "code",
   "execution_count": 16,
   "metadata": {
    "scrolled": true
   },
   "outputs": [
    {
     "name": "stdout",
     "output_type": "stream",
     "text": [
      "The value of a is: 1\n",
      "The value of b is: 3\n"
     ]
    }
   ],
   "source": [
    "print(f'The value of a is: {a}')\n",
    "print(f'The value of b is: {b}')"
   ]
  },
  {
   "cell_type": "markdown",
   "metadata": {},
   "source": [
    "The user decides the order in which code blocks are executed. For example, `In [6]` means that it is the sixth execution of a code block. If you change the same code block and run it again, it will get number 7. If you define the variable `a` in code block 7, it will overwrite the value of `a` defined in a previous code block.\n",
    "\n",
    "Variable names may be as long as you like. Selecting descriptive names aids in understanding the code. Variable names cannot have spaces, nor can they start with a number. And variable names are case sensitive. So the variable `myvariable` is not the same as the variable `MyVariable`. The name of a variable may be anything you want, except for reserved words in the Python language. For example, it is not possible to create a variable `for = 7`, as `for` is a reserved word. You will learn many of the reserved words when we continue; they are colored bold green when you type them in the Notebook."
   ]
  },
  {
   "cell_type": "markdown",
   "metadata": {},
   "source": [
    "### Exercise 1d, Putting it together\n",
    "\n",
    "For this exercise no answer will be provided. Include your code segment with an explenatory paragraph to your protocol.\n",
    "\n",
    "Imagine you are planning a field trial with sugar beets. One plot in your trial has the dimensions of 3m x 6m. The row spacing is 50 cm and the seed spacing in the row can be 11.6 cm und 19.4 cm depending on the machine settings.\n",
    "\n",
    "Define appropriate variables for all given parameters and calculate the number of seed per plot for both seed spacings.\n",
    "\n",
    "Print the results to the screen using f-strings and 3 decimal places."
   ]
  },
  {
   "cell_type": "code",
   "execution_count": null,
   "metadata": {},
   "outputs": [],
   "source": []
  },
  {
   "cell_type": "markdown",
   "metadata": {},
   "source": [
    "# Answers for the exercises"
   ]
  },
  {
   "cell_type": "markdown",
   "metadata": {},
   "source": [
    "<a name=\"ex1banswer\">Answer to Exercise 1b</a>"
   ]
  },
  {
   "cell_type": "code",
   "execution_count": null,
   "metadata": {},
   "outputs": [],
   "source": [
    "nir = 0.415\n",
    "red = 0.0599\n",
    "ndvi = (nir - red)/(nir + red)\n",
    "print('The NDVI for the healthy plant is', ndvi)\n",
    "nir = 0.3483\n",
    "red = 0.11135\n",
    "ndvi = (nir - red)/(nir + red)\n",
    "print('The NDVI for the stressed plant is', ndvi)"
   ]
  },
  {
   "cell_type": "markdown",
   "metadata": {},
   "source": [
    "<a href=\"#ex1b\">Back to Exercise 1b</a>"
   ]
  },
  {
   "cell_type": "markdown",
   "metadata": {},
   "source": [
    "<a name=\"ex1canswer\">Answer to Exercise 1c</a>"
   ]
  },
  {
   "cell_type": "code",
   "execution_count": null,
   "metadata": {},
   "outputs": [],
   "source": [
    "nir = 0.415\n",
    "red = 0.0599\n",
    "ndvi = (nir - red)/(nir + red)\n",
    "print(f'The NDVI for the healthy plant is {ndvi:.2}')\n",
    "nir = 0.3483\n",
    "red = 0.11135\n",
    "ndvi = (nir - red)/(nir + red)\n",
    "print(f'The NDVI for the stressed plant is {ndvi:.2}')"
   ]
  },
  {
   "cell_type": "markdown",
   "metadata": {},
   "source": [
    "<a href=\"#ex1c\">Back to Exercise 1c</a>"
   ]
  },
  {
   "cell_type": "code",
   "execution_count": null,
   "metadata": {},
   "outputs": [],
   "source": []
  }
 ],
 "metadata": {
  "kernelspec": {
   "display_name": "Python 3",
   "language": "python",
   "name": "python3"
  },
  "language_info": {
   "codemirror_mode": {
    "name": "ipython",
    "version": 3
   },
   "file_extension": ".py",
   "mimetype": "text/x-python",
   "name": "python",
   "nbconvert_exporter": "python",
   "pygments_lexer": "ipython3",
   "version": "3.7.3"
  }
 },
 "nbformat": 4,
 "nbformat_minor": 4
}
